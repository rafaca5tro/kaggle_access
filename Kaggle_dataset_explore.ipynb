{
  "nbformat": 4,
  "nbformat_minor": 0,
  "metadata": {
    "colab": {
      "name": "Kaggle_dataset_explore.ipynb",
      "provenance": [],
      "collapsed_sections": [],
      "mount_file_id": "1MsnXt7RKeWhX7ZUwow2iHx9NivzNiVHa",
      "authorship_tag": "ABX9TyOjIe92aBZayWQBrpBIVuNY",
      "include_colab_link": true
    },
    "kernelspec": {
      "name": "python3",
      "display_name": "Python 3"
    }
  },
  "cells": [
    {
      "cell_type": "markdown",
      "metadata": {
        "id": "view-in-github",
        "colab_type": "text"
      },
      "source": [
        "<a href=\"https://colab.research.google.com/github/rcgonzsv/kaggle_access/blob/master/Kaggle_dataset_explore.ipynb\" target=\"_parent\"><img src=\"https://colab.research.google.com/assets/colab-badge.svg\" alt=\"Open In Colab\"/></a>"
      ]
    },
    {
      "cell_type": "code",
      "metadata": {
        "id": "PD90xjCqCEzX",
        "colab_type": "code",
        "colab": {}
      },
      "source": [
        "#!pip install -q kaggle"
      ],
      "execution_count": 0,
      "outputs": []
    },
    {
      "cell_type": "code",
      "metadata": {
        "id": "ZO5MpDe9COuU",
        "colab_type": "code",
        "colab": {}
      },
      "source": [
        " #from google.colab import files\n",
        "\n",
        "#files.upload()"
      ],
      "execution_count": 0,
      "outputs": []
    },
    {
      "cell_type": "code",
      "metadata": {
        "id": "dKWpv1AKCmHN",
        "colab_type": "code",
        "colab": {}
      },
      "source": [
        "!mkdir ~/.kaggle"
      ],
      "execution_count": 0,
      "outputs": []
    },
    {
      "cell_type": "code",
      "metadata": {
        "id": "17xJ-b_QCusI",
        "colab_type": "code",
        "colab": {}
      },
      "source": [
        "!cp kaggle.json ~/.kaggle/"
      ],
      "execution_count": 0,
      "outputs": []
    },
    {
      "cell_type": "code",
      "metadata": {
        "id": "T6j74rNHC3da",
        "colab_type": "code",
        "colab": {}
      },
      "source": [
        "!chmod 600 ~/.kaggle/kaggle.json"
      ],
      "execution_count": 0,
      "outputs": []
    },
    {
      "cell_type": "code",
      "metadata": {
        "id": "Sei8vtT2DH5B",
        "colab_type": "code",
        "outputId": "807809ab-ac5d-414a-989d-2c88660bca39",
        "colab": {
          "base_uri": "https://localhost:8080/",
          "height": 416
        }
      },
      "source": [
        "#Look for database\n",
        "!kaggle datasets list -s melanoma"
      ],
      "execution_count": 0,
      "outputs": [
        {
          "output_type": "stream",
          "text": [
            "Warning: Looks like you're using an outdated API Version, please consider updating (server 1.5.6 / client 1.5.4)\n",
            "ref                                                        title                                            size  lastUpdated          downloadCount  \n",
            "---------------------------------------------------------  ----------------------------------------------  -----  -------------------  -------------  \n",
            "drscarlat/melanoma                                         melanoma                                          5GB  2018-12-02 04:01:51           1238  \n",
            "kmader/skin-cancer-mnist-ham10000                          Skin Cancer MNIST: HAM10000                       5GB  2018-09-20 20:36:13          25668  \n",
            "shonenkov/melanoma-merged-external-data-512x512-jpeg       melanoma merged external data 512x512 jpeg        5GB  2020-06-11 19:50:58              0  \n",
            "muhakabartay/melanoma-public                               melanoma_public                                 996KB  2020-06-05 13:47:15              0  \n",
            "andrewmvd/isic-2019                                        Skin Lesion Images for Melanoma Classification    9GB  2020-05-28 05:11:34              0  \n",
            "wanderdust/skin-lesion-analysis-toward-melanoma-detection  Melanoma Detection Dataset                       11GB  2020-05-12 13:15:53              5  \n",
            "tunguz/siimisic-melanoma-resized-images                    SIIM-ISIC Melanoma Resized Images                  0B  2020-05-30 19:46:07              0  \n",
            "cdeotte/melanoma-512x512                                   Melanoma TFRecords 512x512                        3GB  2020-06-02 08:10:45              0  \n",
            "cdeotte/melanoma-256x256                                   Melanoma TFRecords 256x256                      771MB  2020-06-02 06:38:22              0  \n",
            "ianmoone0617/siimisic-melanoma-classification-128          SIIM-ISIC Melanoma Classification 128           102MB  2020-06-04 16:55:56              0  \n",
            "cdeotte/melanoma-768x768                                   Melanoma TFRecords 768x768                        5GB  2020-06-02 17:03:37              0  \n",
            "mathurinache/melanoma                                      melanoma                                        490MB  2020-06-01 19:55:59              0  \n",
            "nroman/melanoma-external-malignant-256                     melanoma external malignant 256                   1GB  2020-06-08 12:30:10              0  \n",
            "cdeotte/512x512-melanoma-tfrecords-70k-images              512x512 Melanoma TFRecords 70k Images             5GB  2020-06-06 17:19:30              0  \n",
            "shonenkov/melanoma-public-checkpoints                      melanoma public checkpoints                     101MB  2020-06-05 09:40:25              0  \n",
            "nodoubttome/skin-cancer9-classesisic                       Skin Cancer ISIC                                  2GB  2019-08-26 18:59:21            818  \n",
            "paoloripamonti/derma-diseases                              Derma Diseases                                   53MB  2018-09-07 13:32:34            292  \n",
            "anshuls235/melanomaextractedfeatures                       [SIIM-ISIC] Melanoma extracted features          98MB  2020-06-03 11:52:52              0  \n",
            "bitthal/resize-jpg-siimisic-melanoma-classification        Resize JPG: SIIM-ISIC Melanoma Classification     2GB  2020-06-01 17:45:59              0  \n",
            "ukveteran/survival-from-malignant-melanoma                 Survival from Malignant Melanoma                  2KB  2020-02-23 22:18:18             22  \n"
          ],
          "name": "stdout"
        }
      ]
    },
    {
      "cell_type": "code",
      "metadata": {
        "id": "2pzvf47gDSC8",
        "colab_type": "code",
        "outputId": "d4c18f27-1b24-4b3a-e4b5-9b2f51014a7a",
        "colab": {
          "base_uri": "https://localhost:8080/",
          "height": 69
        }
      },
      "source": [
        "!kaggle datasets download \"wanderdust/skin-lesion-analysis-toward-melanoma-detection\""
      ],
      "execution_count": 0,
      "outputs": [
        {
          "output_type": "stream",
          "text": [
            "Downloading skin-lesion-analysis-toward-melanoma-detection.zip to /content\n",
            "100% 11.3G/11.3G [03:01<00:00, 69.3MB/s]\n",
            "100% 11.3G/11.3G [03:01<00:00, 66.8MB/s]\n"
          ],
          "name": "stdout"
        }
      ]
    },
    {
      "cell_type": "code",
      "metadata": {
        "id": "SpImb8akDYdK",
        "colab_type": "code",
        "colab": {}
      },
      "source": [
        "!unzip path_to_file.zip -d path_to_directory"
      ],
      "execution_count": 0,
      "outputs": []
    }
  ]
}